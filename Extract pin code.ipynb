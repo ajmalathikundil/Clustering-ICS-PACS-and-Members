{
 "cells": [
  {
   "cell_type": "code",
   "execution_count": 10,
   "metadata": {},
   "outputs": [
    {
     "name": "stdout",
     "output_type": "stream",
     "text": [
      "Index(['Sr.\\nno.', 'Name and Contact details of the laboratory', 'Unnamed: 2'], dtype='object')\n",
      "Processed file saved at C:\\Users\\ajmal\\Downloads\\output_with_pin_code_matches.csv\n"
     ]
    }
   ],
   "source": [
    "import pandas as pd\n",
    "import re\n",
    "\n",
    "# File paths\n",
    "address_file = r'C:\\Users\\ajmal\\Downloads\\labs_Organic_10_July_2024 (1).csv'  # Replace with the actual path to your address CSV file\n",
    "pincode_file = r'C:\\Users\\ajmal\\Downloads\\pincode.csv' # Replace with the actual path to your PIN code CSV file\n",
    "\n",
    "# Load the CSV files\n",
    "address_df = pd.read_csv(address_file)\n",
    "print(address_df.columns)\n",
    "pincode_df = pd.read_csv(pincode_file)\n",
    "\n",
    "# Convert the PIN code column in the PIN code file to a list\n",
    "valid_pincodes = pincode_df['Pincode'].astype(str).tolist()\n",
    "\n",
    "# Function to extract PIN code from address\n",
    "def extract_pin_code(address):\n",
    "    match = re.search(r'\\b\\d{6}\\b', str(address))\n",
    "    return match.group(0) if match else None\n",
    "\n",
    "# Apply the function to extract PIN codes from the address column\n",
    "address_df['Extracted PIN Code'] = address_df['Name and Contact details of the laboratory'].apply(extract_pin_code)\n",
    "\n",
    "# Match extracted PIN codes against the list of valid PIN codes\n",
    "address_df['Matched'] = address_df['Extracted PIN Code'].apply(lambda x: x in valid_pincodes)\n",
    "\n",
    "# Save the results to a new CSV file\n",
    "output_path =  r'C:\\Users\\ajmal\\Downloads\\output_with_pin_code_matches.csv'\n",
    "address_df.to_csv(output_path, index=False)\n",
    "\n",
    "print(f\"Processed file saved at {output_path}\")\n"
   ]
  }
 ],
 "metadata": {
  "kernelspec": {
   "display_name": "Python 3",
   "language": "python",
   "name": "python3"
  },
  "language_info": {
   "codemirror_mode": {
    "name": "ipython",
    "version": 3
   },
   "file_extension": ".py",
   "mimetype": "text/x-python",
   "name": "python",
   "nbconvert_exporter": "python",
   "pygments_lexer": "ipython3",
   "version": "3.12.0"
  }
 },
 "nbformat": 4,
 "nbformat_minor": 2
}

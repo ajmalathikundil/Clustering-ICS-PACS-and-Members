{
 "cells": [
  {
   "cell_type": "code",
   "execution_count": 1,
   "metadata": {},
   "outputs": [
    {
     "name": "stdout",
     "output_type": "stream",
     "text": [
      "Collecting geopyNote: you may need to restart the kernel to use updated packages.\n"
     ]
    },
    {
     "name": "stderr",
     "output_type": "stream",
     "text": [
      "\n",
      "[notice] A new release of pip is available: 23.3.2 -> 24.3.1\n",
      "[notice] To update, run: python.exe -m pip install --upgrade pip\n"
     ]
    },
    {
     "name": "stdout",
     "output_type": "stream",
     "text": [
      "\n",
      "  Downloading geopy-2.4.1-py3-none-any.whl.metadata (6.8 kB)\n",
      "Requirement already satisfied: scipy in c:\\users\\ajmal\\appdata\\local\\programs\\python\\python312\\lib\\site-packages (1.11.4)\n",
      "Collecting geographiclib<3,>=1.52 (from geopy)\n",
      "  Downloading geographiclib-2.0-py3-none-any.whl.metadata (1.4 kB)\n",
      "Requirement already satisfied: numpy<1.28.0,>=1.21.6 in c:\\users\\ajmal\\appdata\\local\\programs\\python\\python312\\lib\\site-packages (from scipy) (1.26.2)\n",
      "Downloading geopy-2.4.1-py3-none-any.whl (125 kB)\n",
      "   ---------------------------------------- 0.0/125.4 kB ? eta -:--:--\n",
      "   ---------------------------------------- 0.0/125.4 kB ? eta -:--:--\n",
      "   --- ------------------------------------ 10.2/125.4 kB ? eta -:--:--\n",
      "   ------------ -------------------------- 41.0/125.4 kB 487.6 kB/s eta 0:00:01\n",
      "   ---------------------------------------- 125.4/125.4 kB 1.0 MB/s eta 0:00:00\n",
      "Downloading geographiclib-2.0-py3-none-any.whl (40 kB)\n",
      "   ---------------------------------------- 0.0/40.3 kB ? eta -:--:--\n",
      "   ---------------------------------------- 40.3/40.3 kB 1.9 MB/s eta 0:00:00\n",
      "Installing collected packages: geographiclib, geopy\n",
      "Successfully installed geographiclib-2.0 geopy-2.4.1\n"
     ]
    }
   ],
   "source": [
    "pip install geopy scipy\n"
   ]
  },
  {
   "cell_type": "code",
   "execution_count": null,
   "metadata": {},
   "outputs": [
    {
     "name": "stdout",
     "output_type": "stream",
     "text": [
      "Last Median Latitude: 26.297472666666668, Last Median Longitude: 86.52814066666667\n",
      "Output file saved as pincode_geographic_median_summary.csv\n"
     ]
    }
   ],
   "source": [
    "import pandas as pd\n",
    "from geopy.distance import geodesic\n",
    "\n",
    "def geographic_median(latitudes, longitudes):\n",
    "    \"\"\"\n",
    "    Calculate the geographic median using the centroid approximation.\n",
    "    \"\"\"\n",
    "    if not latitudes or not longitudes:\n",
    "        return None, None  # Return None if no valid points\n",
    "\n",
    "    # Calculate centroid as a simple average of latitudes and longitudes\n",
    "    median_lat = sum(latitudes) / len(latitudes)\n",
    "    median_lon = sum(longitudes) / len(longitudes)\n",
    "    return median_lat, median_lon\n",
    "\n",
    "# Load the dataset\n",
    "file_path = r'C:\\Users\\ajmal\\OneDrive\\Documents\\NCOL\\ICS Tracker\\Raw_Pincode_Downloaded.csv'\n",
    "data = pd.read_csv(file_path, low_memory=False)\n",
    "\n",
    "# Validate and clean Latitude/Longitude\n",
    "data['Latitude'] = pd.to_numeric(data['Latitude'], errors='coerce')\n",
    "data['Longitude'] = pd.to_numeric(data['Longitude'], errors='coerce')\n",
    "\n",
    "# Remove rows with NA in Latitude or Longitude\n",
    "data.dropna(subset=['Latitude', 'Longitude'], inplace=True)\n",
    "\n",
    "# Remove rows with invalid Latitude and Longitude ranges\n",
    "data = data[(data['Latitude'] >= 6.0) & (data['Latitude'] <= 37.1) & \n",
    "            (data['Longitude'] >= 68.1) & (data['Longitude'] <= 97.4)]\n",
    "\n",
    "# Group by Pincode, District, and StateName\n",
    "results = []\n",
    "last_median_lat, last_median_lon = None, None  # Variables to track the last median latitude and longitude\n",
    "for (pincode, district, state), group in data.groupby(['Pincode', 'District', 'StateName']):\n",
    "    latitudes = group['Latitude'].tolist()\n",
    "    longitudes = group['Longitude'].tolist()\n",
    "    try:\n",
    "        median_lat, median_lon = geographic_median(latitudes, longitudes)\n",
    "        last_median_lat, last_median_lon = median_lat, median_lon  # Update the last median values\n",
    "        results.append({\n",
    "            'Pincode': pincode,\n",
    "            'District': district,\n",
    "            'State': state,\n",
    "            'Latitude': median_lat,\n",
    "            'Longitude': median_lon\n",
    "        })\n",
    "    except Exception as e:\n",
    "        print(f\"Error processing Pincode={pincode}, District={district}, State={state}: {e}\")\n",
    "        print(f\"Last Latitudes: {latitudes}, Last Longitudes: {longitudes}\")\n",
    "\n",
    "# Print the last median latitude and longitude\n",
    "print(f\"Last Median Latitude: {last_median_lat}, Last Median Longitude: {last_median_lon}\")\n",
    "\n",
    "# Convert results to a DataFrame\n",
    "median_data = pd.DataFrame(results)\n",
    "\n",
    "# Save to a CSV file\n",
    "output_file_path = r'C:\\Users\\ajmal\\Downloads\\pincode_geographic_median_summary.csv'\n",
    "median_data.to_csv(output_file_path, index=False)\n",
    "\n",
    "print(f\"Output file saved as {output_file_path}\")\n"
   ]
  },
  {
   "cell_type": "code",
   "execution_count": 18,
   "metadata": {},
   "outputs": [],
   "source": [
    "output_file_path = r'C:\\Users\\ajmal\\Downloads\\pincode_geographic_median_summary.csv'\n",
    "median_data.to_csv(output_file_path, index=False)"
   ]
  }
 ],
 "metadata": {
  "kernelspec": {
   "display_name": "Python 3",
   "language": "python",
   "name": "python3"
  },
  "language_info": {
   "codemirror_mode": {
    "name": "ipython",
    "version": 3
   },
   "file_extension": ".py",
   "mimetype": "text/x-python",
   "name": "python",
   "nbconvert_exporter": "python",
   "pygments_lexer": "ipython3",
   "version": "3.12.0"
  }
 },
 "nbformat": 4,
 "nbformat_minor": 2
}
